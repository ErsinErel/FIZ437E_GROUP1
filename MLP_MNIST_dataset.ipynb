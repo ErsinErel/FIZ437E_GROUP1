{
  "nbformat": 4,
  "nbformat_minor": 0,
  "metadata": {
    "colab": {
      "name": "MLP_MNIST_dataset.ipynb",
      "provenance": [],
      "collapsed_sections": []
    },
    "kernelspec": {
      "name": "python3",
      "display_name": "Python 3"
    },
    "language_info": {
      "name": "python"
    },
    "widgets": {
      "application/vnd.jupyter.widget-state+json": {
        "13470681e70c4559bdc277f3a1fe2ae0": {
          "model_module": "@jupyter-widgets/controls",
          "model_name": "HBoxModel",
          "model_module_version": "1.5.0",
          "state": {
            "_view_name": "HBoxView",
            "_dom_classes": [],
            "_model_name": "HBoxModel",
            "_view_module": "@jupyter-widgets/controls",
            "_model_module_version": "1.5.0",
            "_view_count": null,
            "_view_module_version": "1.5.0",
            "box_style": "",
            "layout": "IPY_MODEL_f528699cc69d499cbad4005f447e8129",
            "_model_module": "@jupyter-widgets/controls",
            "children": [
              "IPY_MODEL_08c38d6206ad476fa79144641ce5bb73",
              "IPY_MODEL_5932f5d83f7d410ab093dea827197d5c",
              "IPY_MODEL_e2f8f91b885c47ea9a719cece70e2ac6"
            ]
          }
        },
        "f528699cc69d499cbad4005f447e8129": {
          "model_module": "@jupyter-widgets/base",
          "model_name": "LayoutModel",
          "model_module_version": "1.2.0",
          "state": {
            "_view_name": "LayoutView",
            "grid_template_rows": null,
            "right": null,
            "justify_content": null,
            "_view_module": "@jupyter-widgets/base",
            "overflow": null,
            "_model_module_version": "1.2.0",
            "_view_count": null,
            "flex_flow": null,
            "width": null,
            "min_width": null,
            "border": null,
            "align_items": null,
            "bottom": null,
            "_model_module": "@jupyter-widgets/base",
            "top": null,
            "grid_column": null,
            "overflow_y": null,
            "overflow_x": null,
            "grid_auto_flow": null,
            "grid_area": null,
            "grid_template_columns": null,
            "flex": null,
            "_model_name": "LayoutModel",
            "justify_items": null,
            "grid_row": null,
            "max_height": null,
            "align_content": null,
            "visibility": null,
            "align_self": null,
            "height": null,
            "min_height": null,
            "padding": null,
            "grid_auto_rows": null,
            "grid_gap": null,
            "max_width": null,
            "order": null,
            "_view_module_version": "1.2.0",
            "grid_template_areas": null,
            "object_position": null,
            "object_fit": null,
            "grid_auto_columns": null,
            "margin": null,
            "display": null,
            "left": null
          }
        },
        "08c38d6206ad476fa79144641ce5bb73": {
          "model_module": "@jupyter-widgets/controls",
          "model_name": "HTMLModel",
          "model_module_version": "1.5.0",
          "state": {
            "_view_name": "HTMLView",
            "style": "IPY_MODEL_b7aad3f86ff44769a001f1f26f200328",
            "_dom_classes": [],
            "description": "",
            "_model_name": "HTMLModel",
            "placeholder": "​",
            "_view_module": "@jupyter-widgets/controls",
            "_model_module_version": "1.5.0",
            "value": "",
            "_view_count": null,
            "_view_module_version": "1.5.0",
            "description_tooltip": null,
            "_model_module": "@jupyter-widgets/controls",
            "layout": "IPY_MODEL_2e204c868b95467b858d9e943f13d38d"
          }
        },
        "5932f5d83f7d410ab093dea827197d5c": {
          "model_module": "@jupyter-widgets/controls",
          "model_name": "FloatProgressModel",
          "model_module_version": "1.5.0",
          "state": {
            "_view_name": "ProgressView",
            "style": "IPY_MODEL_7f33884a7f4f4ecf93b51f261dd28fe6",
            "_dom_classes": [],
            "description": "",
            "_model_name": "FloatProgressModel",
            "bar_style": "success",
            "max": 9912422,
            "_view_module": "@jupyter-widgets/controls",
            "_model_module_version": "1.5.0",
            "value": 9912422,
            "_view_count": null,
            "_view_module_version": "1.5.0",
            "orientation": "horizontal",
            "min": 0,
            "description_tooltip": null,
            "_model_module": "@jupyter-widgets/controls",
            "layout": "IPY_MODEL_cc811249786a4286af3472f191d4a8b6"
          }
        },
        "e2f8f91b885c47ea9a719cece70e2ac6": {
          "model_module": "@jupyter-widgets/controls",
          "model_name": "HTMLModel",
          "model_module_version": "1.5.0",
          "state": {
            "_view_name": "HTMLView",
            "style": "IPY_MODEL_16a259a0af1e4ff58bc29758710cdc2f",
            "_dom_classes": [],
            "description": "",
            "_model_name": "HTMLModel",
            "placeholder": "​",
            "_view_module": "@jupyter-widgets/controls",
            "_model_module_version": "1.5.0",
            "value": " 9913344/? [00:00&lt;00:00, 35781846.14it/s]",
            "_view_count": null,
            "_view_module_version": "1.5.0",
            "description_tooltip": null,
            "_model_module": "@jupyter-widgets/controls",
            "layout": "IPY_MODEL_b034002b445e43fa912e7b5f78076f75"
          }
        },
        "b7aad3f86ff44769a001f1f26f200328": {
          "model_module": "@jupyter-widgets/controls",
          "model_name": "DescriptionStyleModel",
          "model_module_version": "1.5.0",
          "state": {
            "_view_name": "StyleView",
            "_model_name": "DescriptionStyleModel",
            "description_width": "",
            "_view_module": "@jupyter-widgets/base",
            "_model_module_version": "1.5.0",
            "_view_count": null,
            "_view_module_version": "1.2.0",
            "_model_module": "@jupyter-widgets/controls"
          }
        },
        "2e204c868b95467b858d9e943f13d38d": {
          "model_module": "@jupyter-widgets/base",
          "model_name": "LayoutModel",
          "model_module_version": "1.2.0",
          "state": {
            "_view_name": "LayoutView",
            "grid_template_rows": null,
            "right": null,
            "justify_content": null,
            "_view_module": "@jupyter-widgets/base",
            "overflow": null,
            "_model_module_version": "1.2.0",
            "_view_count": null,
            "flex_flow": null,
            "width": null,
            "min_width": null,
            "border": null,
            "align_items": null,
            "bottom": null,
            "_model_module": "@jupyter-widgets/base",
            "top": null,
            "grid_column": null,
            "overflow_y": null,
            "overflow_x": null,
            "grid_auto_flow": null,
            "grid_area": null,
            "grid_template_columns": null,
            "flex": null,
            "_model_name": "LayoutModel",
            "justify_items": null,
            "grid_row": null,
            "max_height": null,
            "align_content": null,
            "visibility": null,
            "align_self": null,
            "height": null,
            "min_height": null,
            "padding": null,
            "grid_auto_rows": null,
            "grid_gap": null,
            "max_width": null,
            "order": null,
            "_view_module_version": "1.2.0",
            "grid_template_areas": null,
            "object_position": null,
            "object_fit": null,
            "grid_auto_columns": null,
            "margin": null,
            "display": null,
            "left": null
          }
        },
        "7f33884a7f4f4ecf93b51f261dd28fe6": {
          "model_module": "@jupyter-widgets/controls",
          "model_name": "ProgressStyleModel",
          "model_module_version": "1.5.0",
          "state": {
            "_view_name": "StyleView",
            "_model_name": "ProgressStyleModel",
            "description_width": "",
            "_view_module": "@jupyter-widgets/base",
            "_model_module_version": "1.5.0",
            "_view_count": null,
            "_view_module_version": "1.2.0",
            "bar_color": null,
            "_model_module": "@jupyter-widgets/controls"
          }
        },
        "cc811249786a4286af3472f191d4a8b6": {
          "model_module": "@jupyter-widgets/base",
          "model_name": "LayoutModel",
          "model_module_version": "1.2.0",
          "state": {
            "_view_name": "LayoutView",
            "grid_template_rows": null,
            "right": null,
            "justify_content": null,
            "_view_module": "@jupyter-widgets/base",
            "overflow": null,
            "_model_module_version": "1.2.0",
            "_view_count": null,
            "flex_flow": null,
            "width": null,
            "min_width": null,
            "border": null,
            "align_items": null,
            "bottom": null,
            "_model_module": "@jupyter-widgets/base",
            "top": null,
            "grid_column": null,
            "overflow_y": null,
            "overflow_x": null,
            "grid_auto_flow": null,
            "grid_area": null,
            "grid_template_columns": null,
            "flex": null,
            "_model_name": "LayoutModel",
            "justify_items": null,
            "grid_row": null,
            "max_height": null,
            "align_content": null,
            "visibility": null,
            "align_self": null,
            "height": null,
            "min_height": null,
            "padding": null,
            "grid_auto_rows": null,
            "grid_gap": null,
            "max_width": null,
            "order": null,
            "_view_module_version": "1.2.0",
            "grid_template_areas": null,
            "object_position": null,
            "object_fit": null,
            "grid_auto_columns": null,
            "margin": null,
            "display": null,
            "left": null
          }
        },
        "16a259a0af1e4ff58bc29758710cdc2f": {
          "model_module": "@jupyter-widgets/controls",
          "model_name": "DescriptionStyleModel",
          "model_module_version": "1.5.0",
          "state": {
            "_view_name": "StyleView",
            "_model_name": "DescriptionStyleModel",
            "description_width": "",
            "_view_module": "@jupyter-widgets/base",
            "_model_module_version": "1.5.0",
            "_view_count": null,
            "_view_module_version": "1.2.0",
            "_model_module": "@jupyter-widgets/controls"
          }
        },
        "b034002b445e43fa912e7b5f78076f75": {
          "model_module": "@jupyter-widgets/base",
          "model_name": "LayoutModel",
          "model_module_version": "1.2.0",
          "state": {
            "_view_name": "LayoutView",
            "grid_template_rows": null,
            "right": null,
            "justify_content": null,
            "_view_module": "@jupyter-widgets/base",
            "overflow": null,
            "_model_module_version": "1.2.0",
            "_view_count": null,
            "flex_flow": null,
            "width": null,
            "min_width": null,
            "border": null,
            "align_items": null,
            "bottom": null,
            "_model_module": "@jupyter-widgets/base",
            "top": null,
            "grid_column": null,
            "overflow_y": null,
            "overflow_x": null,
            "grid_auto_flow": null,
            "grid_area": null,
            "grid_template_columns": null,
            "flex": null,
            "_model_name": "LayoutModel",
            "justify_items": null,
            "grid_row": null,
            "max_height": null,
            "align_content": null,
            "visibility": null,
            "align_self": null,
            "height": null,
            "min_height": null,
            "padding": null,
            "grid_auto_rows": null,
            "grid_gap": null,
            "max_width": null,
            "order": null,
            "_view_module_version": "1.2.0",
            "grid_template_areas": null,
            "object_position": null,
            "object_fit": null,
            "grid_auto_columns": null,
            "margin": null,
            "display": null,
            "left": null
          }
        },
        "d4b10cc9f3854a6aac101527dabfe163": {
          "model_module": "@jupyter-widgets/controls",
          "model_name": "HBoxModel",
          "model_module_version": "1.5.0",
          "state": {
            "_view_name": "HBoxView",
            "_dom_classes": [],
            "_model_name": "HBoxModel",
            "_view_module": "@jupyter-widgets/controls",
            "_model_module_version": "1.5.0",
            "_view_count": null,
            "_view_module_version": "1.5.0",
            "box_style": "",
            "layout": "IPY_MODEL_d9ff34cd14c44411b9d16cc40126a2a9",
            "_model_module": "@jupyter-widgets/controls",
            "children": [
              "IPY_MODEL_42d0908ab5964a8888d3cdba75995452",
              "IPY_MODEL_ae6c4757f5084c7a82fb95204cbf279a",
              "IPY_MODEL_b9daec2c7b5c4697986014747698a1ef"
            ]
          }
        },
        "d9ff34cd14c44411b9d16cc40126a2a9": {
          "model_module": "@jupyter-widgets/base",
          "model_name": "LayoutModel",
          "model_module_version": "1.2.0",
          "state": {
            "_view_name": "LayoutView",
            "grid_template_rows": null,
            "right": null,
            "justify_content": null,
            "_view_module": "@jupyter-widgets/base",
            "overflow": null,
            "_model_module_version": "1.2.0",
            "_view_count": null,
            "flex_flow": null,
            "width": null,
            "min_width": null,
            "border": null,
            "align_items": null,
            "bottom": null,
            "_model_module": "@jupyter-widgets/base",
            "top": null,
            "grid_column": null,
            "overflow_y": null,
            "overflow_x": null,
            "grid_auto_flow": null,
            "grid_area": null,
            "grid_template_columns": null,
            "flex": null,
            "_model_name": "LayoutModel",
            "justify_items": null,
            "grid_row": null,
            "max_height": null,
            "align_content": null,
            "visibility": null,
            "align_self": null,
            "height": null,
            "min_height": null,
            "padding": null,
            "grid_auto_rows": null,
            "grid_gap": null,
            "max_width": null,
            "order": null,
            "_view_module_version": "1.2.0",
            "grid_template_areas": null,
            "object_position": null,
            "object_fit": null,
            "grid_auto_columns": null,
            "margin": null,
            "display": null,
            "left": null
          }
        },
        "42d0908ab5964a8888d3cdba75995452": {
          "model_module": "@jupyter-widgets/controls",
          "model_name": "HTMLModel",
          "model_module_version": "1.5.0",
          "state": {
            "_view_name": "HTMLView",
            "style": "IPY_MODEL_acd28e4bea39468082bceb6700d981a1",
            "_dom_classes": [],
            "description": "",
            "_model_name": "HTMLModel",
            "placeholder": "​",
            "_view_module": "@jupyter-widgets/controls",
            "_model_module_version": "1.5.0",
            "value": "",
            "_view_count": null,
            "_view_module_version": "1.5.0",
            "description_tooltip": null,
            "_model_module": "@jupyter-widgets/controls",
            "layout": "IPY_MODEL_8687bae78afa4abaa71b8b6c9214ce3a"
          }
        },
        "ae6c4757f5084c7a82fb95204cbf279a": {
          "model_module": "@jupyter-widgets/controls",
          "model_name": "FloatProgressModel",
          "model_module_version": "1.5.0",
          "state": {
            "_view_name": "ProgressView",
            "style": "IPY_MODEL_c79f165d71aa4ce1a89aa151539c32c0",
            "_dom_classes": [],
            "description": "",
            "_model_name": "FloatProgressModel",
            "bar_style": "success",
            "max": 28881,
            "_view_module": "@jupyter-widgets/controls",
            "_model_module_version": "1.5.0",
            "value": 28881,
            "_view_count": null,
            "_view_module_version": "1.5.0",
            "orientation": "horizontal",
            "min": 0,
            "description_tooltip": null,
            "_model_module": "@jupyter-widgets/controls",
            "layout": "IPY_MODEL_2c04344565ec4e0b90aeee4cd0a98871"
          }
        },
        "b9daec2c7b5c4697986014747698a1ef": {
          "model_module": "@jupyter-widgets/controls",
          "model_name": "HTMLModel",
          "model_module_version": "1.5.0",
          "state": {
            "_view_name": "HTMLView",
            "style": "IPY_MODEL_f9aefd2e7b4a4723b35f27fc4ea33bfb",
            "_dom_classes": [],
            "description": "",
            "_model_name": "HTMLModel",
            "placeholder": "​",
            "_view_module": "@jupyter-widgets/controls",
            "_model_module_version": "1.5.0",
            "value": " 29696/? [00:00&lt;00:00, 609429.84it/s]",
            "_view_count": null,
            "_view_module_version": "1.5.0",
            "description_tooltip": null,
            "_model_module": "@jupyter-widgets/controls",
            "layout": "IPY_MODEL_5eb726da705e4256b2a44a1ed9c6bf3e"
          }
        },
        "acd28e4bea39468082bceb6700d981a1": {
          "model_module": "@jupyter-widgets/controls",
          "model_name": "DescriptionStyleModel",
          "model_module_version": "1.5.0",
          "state": {
            "_view_name": "StyleView",
            "_model_name": "DescriptionStyleModel",
            "description_width": "",
            "_view_module": "@jupyter-widgets/base",
            "_model_module_version": "1.5.0",
            "_view_count": null,
            "_view_module_version": "1.2.0",
            "_model_module": "@jupyter-widgets/controls"
          }
        },
        "8687bae78afa4abaa71b8b6c9214ce3a": {
          "model_module": "@jupyter-widgets/base",
          "model_name": "LayoutModel",
          "model_module_version": "1.2.0",
          "state": {
            "_view_name": "LayoutView",
            "grid_template_rows": null,
            "right": null,
            "justify_content": null,
            "_view_module": "@jupyter-widgets/base",
            "overflow": null,
            "_model_module_version": "1.2.0",
            "_view_count": null,
            "flex_flow": null,
            "width": null,
            "min_width": null,
            "border": null,
            "align_items": null,
            "bottom": null,
            "_model_module": "@jupyter-widgets/base",
            "top": null,
            "grid_column": null,
            "overflow_y": null,
            "overflow_x": null,
            "grid_auto_flow": null,
            "grid_area": null,
            "grid_template_columns": null,
            "flex": null,
            "_model_name": "LayoutModel",
            "justify_items": null,
            "grid_row": null,
            "max_height": null,
            "align_content": null,
            "visibility": null,
            "align_self": null,
            "height": null,
            "min_height": null,
            "padding": null,
            "grid_auto_rows": null,
            "grid_gap": null,
            "max_width": null,
            "order": null,
            "_view_module_version": "1.2.0",
            "grid_template_areas": null,
            "object_position": null,
            "object_fit": null,
            "grid_auto_columns": null,
            "margin": null,
            "display": null,
            "left": null
          }
        },
        "c79f165d71aa4ce1a89aa151539c32c0": {
          "model_module": "@jupyter-widgets/controls",
          "model_name": "ProgressStyleModel",
          "model_module_version": "1.5.0",
          "state": {
            "_view_name": "StyleView",
            "_model_name": "ProgressStyleModel",
            "description_width": "",
            "_view_module": "@jupyter-widgets/base",
            "_model_module_version": "1.5.0",
            "_view_count": null,
            "_view_module_version": "1.2.0",
            "bar_color": null,
            "_model_module": "@jupyter-widgets/controls"
          }
        },
        "2c04344565ec4e0b90aeee4cd0a98871": {
          "model_module": "@jupyter-widgets/base",
          "model_name": "LayoutModel",
          "model_module_version": "1.2.0",
          "state": {
            "_view_name": "LayoutView",
            "grid_template_rows": null,
            "right": null,
            "justify_content": null,
            "_view_module": "@jupyter-widgets/base",
            "overflow": null,
            "_model_module_version": "1.2.0",
            "_view_count": null,
            "flex_flow": null,
            "width": null,
            "min_width": null,
            "border": null,
            "align_items": null,
            "bottom": null,
            "_model_module": "@jupyter-widgets/base",
            "top": null,
            "grid_column": null,
            "overflow_y": null,
            "overflow_x": null,
            "grid_auto_flow": null,
            "grid_area": null,
            "grid_template_columns": null,
            "flex": null,
            "_model_name": "LayoutModel",
            "justify_items": null,
            "grid_row": null,
            "max_height": null,
            "align_content": null,
            "visibility": null,
            "align_self": null,
            "height": null,
            "min_height": null,
            "padding": null,
            "grid_auto_rows": null,
            "grid_gap": null,
            "max_width": null,
            "order": null,
            "_view_module_version": "1.2.0",
            "grid_template_areas": null,
            "object_position": null,
            "object_fit": null,
            "grid_auto_columns": null,
            "margin": null,
            "display": null,
            "left": null
          }
        },
        "f9aefd2e7b4a4723b35f27fc4ea33bfb": {
          "model_module": "@jupyter-widgets/controls",
          "model_name": "DescriptionStyleModel",
          "model_module_version": "1.5.0",
          "state": {
            "_view_name": "StyleView",
            "_model_name": "DescriptionStyleModel",
            "description_width": "",
            "_view_module": "@jupyter-widgets/base",
            "_model_module_version": "1.5.0",
            "_view_count": null,
            "_view_module_version": "1.2.0",
            "_model_module": "@jupyter-widgets/controls"
          }
        },
        "5eb726da705e4256b2a44a1ed9c6bf3e": {
          "model_module": "@jupyter-widgets/base",
          "model_name": "LayoutModel",
          "model_module_version": "1.2.0",
          "state": {
            "_view_name": "LayoutView",
            "grid_template_rows": null,
            "right": null,
            "justify_content": null,
            "_view_module": "@jupyter-widgets/base",
            "overflow": null,
            "_model_module_version": "1.2.0",
            "_view_count": null,
            "flex_flow": null,
            "width": null,
            "min_width": null,
            "border": null,
            "align_items": null,
            "bottom": null,
            "_model_module": "@jupyter-widgets/base",
            "top": null,
            "grid_column": null,
            "overflow_y": null,
            "overflow_x": null,
            "grid_auto_flow": null,
            "grid_area": null,
            "grid_template_columns": null,
            "flex": null,
            "_model_name": "LayoutModel",
            "justify_items": null,
            "grid_row": null,
            "max_height": null,
            "align_content": null,
            "visibility": null,
            "align_self": null,
            "height": null,
            "min_height": null,
            "padding": null,
            "grid_auto_rows": null,
            "grid_gap": null,
            "max_width": null,
            "order": null,
            "_view_module_version": "1.2.0",
            "grid_template_areas": null,
            "object_position": null,
            "object_fit": null,
            "grid_auto_columns": null,
            "margin": null,
            "display": null,
            "left": null
          }
        },
        "d3b0307183a04fd1a25b09a9310f04f1": {
          "model_module": "@jupyter-widgets/controls",
          "model_name": "HBoxModel",
          "model_module_version": "1.5.0",
          "state": {
            "_view_name": "HBoxView",
            "_dom_classes": [],
            "_model_name": "HBoxModel",
            "_view_module": "@jupyter-widgets/controls",
            "_model_module_version": "1.5.0",
            "_view_count": null,
            "_view_module_version": "1.5.0",
            "box_style": "",
            "layout": "IPY_MODEL_c1e3a4ebddcc4399b307ff2f87eabc3d",
            "_model_module": "@jupyter-widgets/controls",
            "children": [
              "IPY_MODEL_ba1246b0a1874fa2b431adc7fa86cbd6",
              "IPY_MODEL_eacfd0dd5f98419f82849cfdb2067b00",
              "IPY_MODEL_ba8cabfb265946b8ba38ddd44ec3ca05"
            ]
          }
        },
        "c1e3a4ebddcc4399b307ff2f87eabc3d": {
          "model_module": "@jupyter-widgets/base",
          "model_name": "LayoutModel",
          "model_module_version": "1.2.0",
          "state": {
            "_view_name": "LayoutView",
            "grid_template_rows": null,
            "right": null,
            "justify_content": null,
            "_view_module": "@jupyter-widgets/base",
            "overflow": null,
            "_model_module_version": "1.2.0",
            "_view_count": null,
            "flex_flow": null,
            "width": null,
            "min_width": null,
            "border": null,
            "align_items": null,
            "bottom": null,
            "_model_module": "@jupyter-widgets/base",
            "top": null,
            "grid_column": null,
            "overflow_y": null,
            "overflow_x": null,
            "grid_auto_flow": null,
            "grid_area": null,
            "grid_template_columns": null,
            "flex": null,
            "_model_name": "LayoutModel",
            "justify_items": null,
            "grid_row": null,
            "max_height": null,
            "align_content": null,
            "visibility": null,
            "align_self": null,
            "height": null,
            "min_height": null,
            "padding": null,
            "grid_auto_rows": null,
            "grid_gap": null,
            "max_width": null,
            "order": null,
            "_view_module_version": "1.2.0",
            "grid_template_areas": null,
            "object_position": null,
            "object_fit": null,
            "grid_auto_columns": null,
            "margin": null,
            "display": null,
            "left": null
          }
        },
        "ba1246b0a1874fa2b431adc7fa86cbd6": {
          "model_module": "@jupyter-widgets/controls",
          "model_name": "HTMLModel",
          "model_module_version": "1.5.0",
          "state": {
            "_view_name": "HTMLView",
            "style": "IPY_MODEL_b815b1710a3b401cbf3acac311ca660c",
            "_dom_classes": [],
            "description": "",
            "_model_name": "HTMLModel",
            "placeholder": "​",
            "_view_module": "@jupyter-widgets/controls",
            "_model_module_version": "1.5.0",
            "value": "",
            "_view_count": null,
            "_view_module_version": "1.5.0",
            "description_tooltip": null,
            "_model_module": "@jupyter-widgets/controls",
            "layout": "IPY_MODEL_a8beea86772c4ba797b7dc6beb90c6d3"
          }
        },
        "eacfd0dd5f98419f82849cfdb2067b00": {
          "model_module": "@jupyter-widgets/controls",
          "model_name": "FloatProgressModel",
          "model_module_version": "1.5.0",
          "state": {
            "_view_name": "ProgressView",
            "style": "IPY_MODEL_2f1ac0916b6849c2ba170cbb44bb59c5",
            "_dom_classes": [],
            "description": "",
            "_model_name": "FloatProgressModel",
            "bar_style": "success",
            "max": 1648877,
            "_view_module": "@jupyter-widgets/controls",
            "_model_module_version": "1.5.0",
            "value": 1648877,
            "_view_count": null,
            "_view_module_version": "1.5.0",
            "orientation": "horizontal",
            "min": 0,
            "description_tooltip": null,
            "_model_module": "@jupyter-widgets/controls",
            "layout": "IPY_MODEL_b478b7e641984ddeb79239e3bc5bff54"
          }
        },
        "ba8cabfb265946b8ba38ddd44ec3ca05": {
          "model_module": "@jupyter-widgets/controls",
          "model_name": "HTMLModel",
          "model_module_version": "1.5.0",
          "state": {
            "_view_name": "HTMLView",
            "style": "IPY_MODEL_673130e405aa42a5bdaa04514c690fcb",
            "_dom_classes": [],
            "description": "",
            "_model_name": "HTMLModel",
            "placeholder": "​",
            "_view_module": "@jupyter-widgets/controls",
            "_model_module_version": "1.5.0",
            "value": " 1649664/? [00:00&lt;00:00, 4764857.04it/s]",
            "_view_count": null,
            "_view_module_version": "1.5.0",
            "description_tooltip": null,
            "_model_module": "@jupyter-widgets/controls",
            "layout": "IPY_MODEL_dbf4c62ae5f34d97af4d1ebf503cc0c7"
          }
        },
        "b815b1710a3b401cbf3acac311ca660c": {
          "model_module": "@jupyter-widgets/controls",
          "model_name": "DescriptionStyleModel",
          "model_module_version": "1.5.0",
          "state": {
            "_view_name": "StyleView",
            "_model_name": "DescriptionStyleModel",
            "description_width": "",
            "_view_module": "@jupyter-widgets/base",
            "_model_module_version": "1.5.0",
            "_view_count": null,
            "_view_module_version": "1.2.0",
            "_model_module": "@jupyter-widgets/controls"
          }
        },
        "a8beea86772c4ba797b7dc6beb90c6d3": {
          "model_module": "@jupyter-widgets/base",
          "model_name": "LayoutModel",
          "model_module_version": "1.2.0",
          "state": {
            "_view_name": "LayoutView",
            "grid_template_rows": null,
            "right": null,
            "justify_content": null,
            "_view_module": "@jupyter-widgets/base",
            "overflow": null,
            "_model_module_version": "1.2.0",
            "_view_count": null,
            "flex_flow": null,
            "width": null,
            "min_width": null,
            "border": null,
            "align_items": null,
            "bottom": null,
            "_model_module": "@jupyter-widgets/base",
            "top": null,
            "grid_column": null,
            "overflow_y": null,
            "overflow_x": null,
            "grid_auto_flow": null,
            "grid_area": null,
            "grid_template_columns": null,
            "flex": null,
            "_model_name": "LayoutModel",
            "justify_items": null,
            "grid_row": null,
            "max_height": null,
            "align_content": null,
            "visibility": null,
            "align_self": null,
            "height": null,
            "min_height": null,
            "padding": null,
            "grid_auto_rows": null,
            "grid_gap": null,
            "max_width": null,
            "order": null,
            "_view_module_version": "1.2.0",
            "grid_template_areas": null,
            "object_position": null,
            "object_fit": null,
            "grid_auto_columns": null,
            "margin": null,
            "display": null,
            "left": null
          }
        },
        "2f1ac0916b6849c2ba170cbb44bb59c5": {
          "model_module": "@jupyter-widgets/controls",
          "model_name": "ProgressStyleModel",
          "model_module_version": "1.5.0",
          "state": {
            "_view_name": "StyleView",
            "_model_name": "ProgressStyleModel",
            "description_width": "",
            "_view_module": "@jupyter-widgets/base",
            "_model_module_version": "1.5.0",
            "_view_count": null,
            "_view_module_version": "1.2.0",
            "bar_color": null,
            "_model_module": "@jupyter-widgets/controls"
          }
        },
        "b478b7e641984ddeb79239e3bc5bff54": {
          "model_module": "@jupyter-widgets/base",
          "model_name": "LayoutModel",
          "model_module_version": "1.2.0",
          "state": {
            "_view_name": "LayoutView",
            "grid_template_rows": null,
            "right": null,
            "justify_content": null,
            "_view_module": "@jupyter-widgets/base",
            "overflow": null,
            "_model_module_version": "1.2.0",
            "_view_count": null,
            "flex_flow": null,
            "width": null,
            "min_width": null,
            "border": null,
            "align_items": null,
            "bottom": null,
            "_model_module": "@jupyter-widgets/base",
            "top": null,
            "grid_column": null,
            "overflow_y": null,
            "overflow_x": null,
            "grid_auto_flow": null,
            "grid_area": null,
            "grid_template_columns": null,
            "flex": null,
            "_model_name": "LayoutModel",
            "justify_items": null,
            "grid_row": null,
            "max_height": null,
            "align_content": null,
            "visibility": null,
            "align_self": null,
            "height": null,
            "min_height": null,
            "padding": null,
            "grid_auto_rows": null,
            "grid_gap": null,
            "max_width": null,
            "order": null,
            "_view_module_version": "1.2.0",
            "grid_template_areas": null,
            "object_position": null,
            "object_fit": null,
            "grid_auto_columns": null,
            "margin": null,
            "display": null,
            "left": null
          }
        },
        "673130e405aa42a5bdaa04514c690fcb": {
          "model_module": "@jupyter-widgets/controls",
          "model_name": "DescriptionStyleModel",
          "model_module_version": "1.5.0",
          "state": {
            "_view_name": "StyleView",
            "_model_name": "DescriptionStyleModel",
            "description_width": "",
            "_view_module": "@jupyter-widgets/base",
            "_model_module_version": "1.5.0",
            "_view_count": null,
            "_view_module_version": "1.2.0",
            "_model_module": "@jupyter-widgets/controls"
          }
        },
        "dbf4c62ae5f34d97af4d1ebf503cc0c7": {
          "model_module": "@jupyter-widgets/base",
          "model_name": "LayoutModel",
          "model_module_version": "1.2.0",
          "state": {
            "_view_name": "LayoutView",
            "grid_template_rows": null,
            "right": null,
            "justify_content": null,
            "_view_module": "@jupyter-widgets/base",
            "overflow": null,
            "_model_module_version": "1.2.0",
            "_view_count": null,
            "flex_flow": null,
            "width": null,
            "min_width": null,
            "border": null,
            "align_items": null,
            "bottom": null,
            "_model_module": "@jupyter-widgets/base",
            "top": null,
            "grid_column": null,
            "overflow_y": null,
            "overflow_x": null,
            "grid_auto_flow": null,
            "grid_area": null,
            "grid_template_columns": null,
            "flex": null,
            "_model_name": "LayoutModel",
            "justify_items": null,
            "grid_row": null,
            "max_height": null,
            "align_content": null,
            "visibility": null,
            "align_self": null,
            "height": null,
            "min_height": null,
            "padding": null,
            "grid_auto_rows": null,
            "grid_gap": null,
            "max_width": null,
            "order": null,
            "_view_module_version": "1.2.0",
            "grid_template_areas": null,
            "object_position": null,
            "object_fit": null,
            "grid_auto_columns": null,
            "margin": null,
            "display": null,
            "left": null
          }
        },
        "b3ae498c8044496e9b343dee6361493f": {
          "model_module": "@jupyter-widgets/controls",
          "model_name": "HBoxModel",
          "model_module_version": "1.5.0",
          "state": {
            "_view_name": "HBoxView",
            "_dom_classes": [],
            "_model_name": "HBoxModel",
            "_view_module": "@jupyter-widgets/controls",
            "_model_module_version": "1.5.0",
            "_view_count": null,
            "_view_module_version": "1.5.0",
            "box_style": "",
            "layout": "IPY_MODEL_bd04705de5f64ac2aa5dffdfeb684574",
            "_model_module": "@jupyter-widgets/controls",
            "children": [
              "IPY_MODEL_22b29a9827fb415a9b7722492a2886a3",
              "IPY_MODEL_20aded9f77744069b1a5502c4d345f9d",
              "IPY_MODEL_2421dd8460f24fb084f5143a0aba807b"
            ]
          }
        },
        "bd04705de5f64ac2aa5dffdfeb684574": {
          "model_module": "@jupyter-widgets/base",
          "model_name": "LayoutModel",
          "model_module_version": "1.2.0",
          "state": {
            "_view_name": "LayoutView",
            "grid_template_rows": null,
            "right": null,
            "justify_content": null,
            "_view_module": "@jupyter-widgets/base",
            "overflow": null,
            "_model_module_version": "1.2.0",
            "_view_count": null,
            "flex_flow": null,
            "width": null,
            "min_width": null,
            "border": null,
            "align_items": null,
            "bottom": null,
            "_model_module": "@jupyter-widgets/base",
            "top": null,
            "grid_column": null,
            "overflow_y": null,
            "overflow_x": null,
            "grid_auto_flow": null,
            "grid_area": null,
            "grid_template_columns": null,
            "flex": null,
            "_model_name": "LayoutModel",
            "justify_items": null,
            "grid_row": null,
            "max_height": null,
            "align_content": null,
            "visibility": null,
            "align_self": null,
            "height": null,
            "min_height": null,
            "padding": null,
            "grid_auto_rows": null,
            "grid_gap": null,
            "max_width": null,
            "order": null,
            "_view_module_version": "1.2.0",
            "grid_template_areas": null,
            "object_position": null,
            "object_fit": null,
            "grid_auto_columns": null,
            "margin": null,
            "display": null,
            "left": null
          }
        },
        "22b29a9827fb415a9b7722492a2886a3": {
          "model_module": "@jupyter-widgets/controls",
          "model_name": "HTMLModel",
          "model_module_version": "1.5.0",
          "state": {
            "_view_name": "HTMLView",
            "style": "IPY_MODEL_3fb8997c0561416cb75c5f0cc6b370e0",
            "_dom_classes": [],
            "description": "",
            "_model_name": "HTMLModel",
            "placeholder": "​",
            "_view_module": "@jupyter-widgets/controls",
            "_model_module_version": "1.5.0",
            "value": "",
            "_view_count": null,
            "_view_module_version": "1.5.0",
            "description_tooltip": null,
            "_model_module": "@jupyter-widgets/controls",
            "layout": "IPY_MODEL_a864b197389b4802aafcfed8cb4907c4"
          }
        },
        "20aded9f77744069b1a5502c4d345f9d": {
          "model_module": "@jupyter-widgets/controls",
          "model_name": "FloatProgressModel",
          "model_module_version": "1.5.0",
          "state": {
            "_view_name": "ProgressView",
            "style": "IPY_MODEL_56c8434f1f3641889379817b88126959",
            "_dom_classes": [],
            "description": "",
            "_model_name": "FloatProgressModel",
            "bar_style": "success",
            "max": 4542,
            "_view_module": "@jupyter-widgets/controls",
            "_model_module_version": "1.5.0",
            "value": 4542,
            "_view_count": null,
            "_view_module_version": "1.5.0",
            "orientation": "horizontal",
            "min": 0,
            "description_tooltip": null,
            "_model_module": "@jupyter-widgets/controls",
            "layout": "IPY_MODEL_9cd7e4de05d54c7bb6a6d911fc21c729"
          }
        },
        "2421dd8460f24fb084f5143a0aba807b": {
          "model_module": "@jupyter-widgets/controls",
          "model_name": "HTMLModel",
          "model_module_version": "1.5.0",
          "state": {
            "_view_name": "HTMLView",
            "style": "IPY_MODEL_a51fd77e1f64464eafcba0e1008dc7ef",
            "_dom_classes": [],
            "description": "",
            "_model_name": "HTMLModel",
            "placeholder": "​",
            "_view_module": "@jupyter-widgets/controls",
            "_model_module_version": "1.5.0",
            "value": " 5120/? [00:00&lt;00:00, 125950.64it/s]",
            "_view_count": null,
            "_view_module_version": "1.5.0",
            "description_tooltip": null,
            "_model_module": "@jupyter-widgets/controls",
            "layout": "IPY_MODEL_72313bf343ab4300a766e3f6a8669b11"
          }
        },
        "3fb8997c0561416cb75c5f0cc6b370e0": {
          "model_module": "@jupyter-widgets/controls",
          "model_name": "DescriptionStyleModel",
          "model_module_version": "1.5.0",
          "state": {
            "_view_name": "StyleView",
            "_model_name": "DescriptionStyleModel",
            "description_width": "",
            "_view_module": "@jupyter-widgets/base",
            "_model_module_version": "1.5.0",
            "_view_count": null,
            "_view_module_version": "1.2.0",
            "_model_module": "@jupyter-widgets/controls"
          }
        },
        "a864b197389b4802aafcfed8cb4907c4": {
          "model_module": "@jupyter-widgets/base",
          "model_name": "LayoutModel",
          "model_module_version": "1.2.0",
          "state": {
            "_view_name": "LayoutView",
            "grid_template_rows": null,
            "right": null,
            "justify_content": null,
            "_view_module": "@jupyter-widgets/base",
            "overflow": null,
            "_model_module_version": "1.2.0",
            "_view_count": null,
            "flex_flow": null,
            "width": null,
            "min_width": null,
            "border": null,
            "align_items": null,
            "bottom": null,
            "_model_module": "@jupyter-widgets/base",
            "top": null,
            "grid_column": null,
            "overflow_y": null,
            "overflow_x": null,
            "grid_auto_flow": null,
            "grid_area": null,
            "grid_template_columns": null,
            "flex": null,
            "_model_name": "LayoutModel",
            "justify_items": null,
            "grid_row": null,
            "max_height": null,
            "align_content": null,
            "visibility": null,
            "align_self": null,
            "height": null,
            "min_height": null,
            "padding": null,
            "grid_auto_rows": null,
            "grid_gap": null,
            "max_width": null,
            "order": null,
            "_view_module_version": "1.2.0",
            "grid_template_areas": null,
            "object_position": null,
            "object_fit": null,
            "grid_auto_columns": null,
            "margin": null,
            "display": null,
            "left": null
          }
        },
        "56c8434f1f3641889379817b88126959": {
          "model_module": "@jupyter-widgets/controls",
          "model_name": "ProgressStyleModel",
          "model_module_version": "1.5.0",
          "state": {
            "_view_name": "StyleView",
            "_model_name": "ProgressStyleModel",
            "description_width": "",
            "_view_module": "@jupyter-widgets/base",
            "_model_module_version": "1.5.0",
            "_view_count": null,
            "_view_module_version": "1.2.0",
            "bar_color": null,
            "_model_module": "@jupyter-widgets/controls"
          }
        },
        "9cd7e4de05d54c7bb6a6d911fc21c729": {
          "model_module": "@jupyter-widgets/base",
          "model_name": "LayoutModel",
          "model_module_version": "1.2.0",
          "state": {
            "_view_name": "LayoutView",
            "grid_template_rows": null,
            "right": null,
            "justify_content": null,
            "_view_module": "@jupyter-widgets/base",
            "overflow": null,
            "_model_module_version": "1.2.0",
            "_view_count": null,
            "flex_flow": null,
            "width": null,
            "min_width": null,
            "border": null,
            "align_items": null,
            "bottom": null,
            "_model_module": "@jupyter-widgets/base",
            "top": null,
            "grid_column": null,
            "overflow_y": null,
            "overflow_x": null,
            "grid_auto_flow": null,
            "grid_area": null,
            "grid_template_columns": null,
            "flex": null,
            "_model_name": "LayoutModel",
            "justify_items": null,
            "grid_row": null,
            "max_height": null,
            "align_content": null,
            "visibility": null,
            "align_self": null,
            "height": null,
            "min_height": null,
            "padding": null,
            "grid_auto_rows": null,
            "grid_gap": null,
            "max_width": null,
            "order": null,
            "_view_module_version": "1.2.0",
            "grid_template_areas": null,
            "object_position": null,
            "object_fit": null,
            "grid_auto_columns": null,
            "margin": null,
            "display": null,
            "left": null
          }
        },
        "a51fd77e1f64464eafcba0e1008dc7ef": {
          "model_module": "@jupyter-widgets/controls",
          "model_name": "DescriptionStyleModel",
          "model_module_version": "1.5.0",
          "state": {
            "_view_name": "StyleView",
            "_model_name": "DescriptionStyleModel",
            "description_width": "",
            "_view_module": "@jupyter-widgets/base",
            "_model_module_version": "1.5.0",
            "_view_count": null,
            "_view_module_version": "1.2.0",
            "_model_module": "@jupyter-widgets/controls"
          }
        },
        "72313bf343ab4300a766e3f6a8669b11": {
          "model_module": "@jupyter-widgets/base",
          "model_name": "LayoutModel",
          "model_module_version": "1.2.0",
          "state": {
            "_view_name": "LayoutView",
            "grid_template_rows": null,
            "right": null,
            "justify_content": null,
            "_view_module": "@jupyter-widgets/base",
            "overflow": null,
            "_model_module_version": "1.2.0",
            "_view_count": null,
            "flex_flow": null,
            "width": null,
            "min_width": null,
            "border": null,
            "align_items": null,
            "bottom": null,
            "_model_module": "@jupyter-widgets/base",
            "top": null,
            "grid_column": null,
            "overflow_y": null,
            "overflow_x": null,
            "grid_auto_flow": null,
            "grid_area": null,
            "grid_template_columns": null,
            "flex": null,
            "_model_name": "LayoutModel",
            "justify_items": null,
            "grid_row": null,
            "max_height": null,
            "align_content": null,
            "visibility": null,
            "align_self": null,
            "height": null,
            "min_height": null,
            "padding": null,
            "grid_auto_rows": null,
            "grid_gap": null,
            "max_width": null,
            "order": null,
            "_view_module_version": "1.2.0",
            "grid_template_areas": null,
            "object_position": null,
            "object_fit": null,
            "grid_auto_columns": null,
            "margin": null,
            "display": null,
            "left": null
          }
        }
      }
    }
  },
  "cells": [
    {
      "cell_type": "markdown",
      "metadata": {
        "id": "aSDa8htGTvXq"
      },
      "source": [
        "**MLP (Multiplayer Perceptrons) with MNIST Dataset**"
      ]
    },
    {
      "cell_type": "code",
      "metadata": {
        "id": "GTHrjNPYSk7J"
      },
      "source": [
        "import torch\n",
        "import torch.nn as nn\n",
        "import torch.nn.functional as F\n",
        "import sklearn\n",
        "import numpy as np\n",
        "import pandas as pd\n",
        "import time\n",
        "import matplotlib.pyplot as plt\n",
        "\n",
        "from torch.utils.data import DataLoader\n",
        "from torchvision import datasets,transforms\n",
        "from sklearn.metrics import accuracy_score\n",
        "\n"
      ],
      "execution_count": 1,
      "outputs": []
    },
    {
      "cell_type": "code",
      "metadata": {
        "colab": {
          "base_uri": "https://localhost:8080/",
          "height": 458,
          "referenced_widgets": [
            "13470681e70c4559bdc277f3a1fe2ae0",
            "f528699cc69d499cbad4005f447e8129",
            "08c38d6206ad476fa79144641ce5bb73",
            "5932f5d83f7d410ab093dea827197d5c",
            "e2f8f91b885c47ea9a719cece70e2ac6",
            "b7aad3f86ff44769a001f1f26f200328",
            "2e204c868b95467b858d9e943f13d38d",
            "7f33884a7f4f4ecf93b51f261dd28fe6",
            "cc811249786a4286af3472f191d4a8b6",
            "16a259a0af1e4ff58bc29758710cdc2f",
            "b034002b445e43fa912e7b5f78076f75",
            "d4b10cc9f3854a6aac101527dabfe163",
            "d9ff34cd14c44411b9d16cc40126a2a9",
            "42d0908ab5964a8888d3cdba75995452",
            "ae6c4757f5084c7a82fb95204cbf279a",
            "b9daec2c7b5c4697986014747698a1ef",
            "acd28e4bea39468082bceb6700d981a1",
            "8687bae78afa4abaa71b8b6c9214ce3a",
            "c79f165d71aa4ce1a89aa151539c32c0",
            "2c04344565ec4e0b90aeee4cd0a98871",
            "f9aefd2e7b4a4723b35f27fc4ea33bfb",
            "5eb726da705e4256b2a44a1ed9c6bf3e",
            "d3b0307183a04fd1a25b09a9310f04f1",
            "c1e3a4ebddcc4399b307ff2f87eabc3d",
            "ba1246b0a1874fa2b431adc7fa86cbd6",
            "eacfd0dd5f98419f82849cfdb2067b00",
            "ba8cabfb265946b8ba38ddd44ec3ca05",
            "b815b1710a3b401cbf3acac311ca660c",
            "a8beea86772c4ba797b7dc6beb90c6d3",
            "2f1ac0916b6849c2ba170cbb44bb59c5",
            "b478b7e641984ddeb79239e3bc5bff54",
            "673130e405aa42a5bdaa04514c690fcb",
            "dbf4c62ae5f34d97af4d1ebf503cc0c7",
            "b3ae498c8044496e9b343dee6361493f",
            "bd04705de5f64ac2aa5dffdfeb684574",
            "22b29a9827fb415a9b7722492a2886a3",
            "20aded9f77744069b1a5502c4d345f9d",
            "2421dd8460f24fb084f5143a0aba807b",
            "3fb8997c0561416cb75c5f0cc6b370e0",
            "a864b197389b4802aafcfed8cb4907c4",
            "56c8434f1f3641889379817b88126959",
            "9cd7e4de05d54c7bb6a6d911fc21c729",
            "a51fd77e1f64464eafcba0e1008dc7ef",
            "72313bf343ab4300a766e3f6a8669b11"
          ]
        },
        "id": "CUMHMAwNT6AD",
        "outputId": "ac7accd0-3487-4661-bde3-8c13528105f1"
      },
      "source": [
        "#Load train dataset of MNIST \n",
        "train_dataset = datasets.MNIST(root ='./data',\n",
        "                            train=True,\n",
        "                            transform = transforms.ToTensor(),\n",
        "                            download = True)\n",
        "\n",
        "#Load test dataset of MNIST\n",
        "test_dataset = datasets.MNIST(root = './data',\n",
        "                           train=False,\n",
        "                           transform = transforms.ToTensor())\n",
        "\n",
        "# Control for MNIST Dataset\n",
        "n_train = len(train_dataset)\n",
        "n_test=len(test_dataset)\n",
        "print(\"Size of Train Dataset:\",n_train)\n",
        "print(\"Size of Test Dataset:\",n_test)"
      ],
      "execution_count": 2,
      "outputs": [
        {
          "output_type": "stream",
          "name": "stdout",
          "text": [
            "Downloading http://yann.lecun.com/exdb/mnist/train-images-idx3-ubyte.gz\n",
            "Downloading http://yann.lecun.com/exdb/mnist/train-images-idx3-ubyte.gz to ./data/MNIST/raw/train-images-idx3-ubyte.gz\n"
          ]
        },
        {
          "output_type": "display_data",
          "data": {
            "application/vnd.jupyter.widget-view+json": {
              "model_id": "13470681e70c4559bdc277f3a1fe2ae0",
              "version_minor": 0,
              "version_major": 2
            },
            "text/plain": [
              "  0%|          | 0/9912422 [00:00<?, ?it/s]"
            ]
          },
          "metadata": {}
        },
        {
          "output_type": "stream",
          "name": "stdout",
          "text": [
            "Extracting ./data/MNIST/raw/train-images-idx3-ubyte.gz to ./data/MNIST/raw\n",
            "\n",
            "Downloading http://yann.lecun.com/exdb/mnist/train-labels-idx1-ubyte.gz\n",
            "Downloading http://yann.lecun.com/exdb/mnist/train-labels-idx1-ubyte.gz to ./data/MNIST/raw/train-labels-idx1-ubyte.gz\n"
          ]
        },
        {
          "output_type": "display_data",
          "data": {
            "application/vnd.jupyter.widget-view+json": {
              "model_id": "d4b10cc9f3854a6aac101527dabfe163",
              "version_minor": 0,
              "version_major": 2
            },
            "text/plain": [
              "  0%|          | 0/28881 [00:00<?, ?it/s]"
            ]
          },
          "metadata": {}
        },
        {
          "output_type": "stream",
          "name": "stdout",
          "text": [
            "Extracting ./data/MNIST/raw/train-labels-idx1-ubyte.gz to ./data/MNIST/raw\n",
            "\n",
            "Downloading http://yann.lecun.com/exdb/mnist/t10k-images-idx3-ubyte.gz\n",
            "Downloading http://yann.lecun.com/exdb/mnist/t10k-images-idx3-ubyte.gz to ./data/MNIST/raw/t10k-images-idx3-ubyte.gz\n"
          ]
        },
        {
          "output_type": "display_data",
          "data": {
            "application/vnd.jupyter.widget-view+json": {
              "model_id": "d3b0307183a04fd1a25b09a9310f04f1",
              "version_minor": 0,
              "version_major": 2
            },
            "text/plain": [
              "  0%|          | 0/1648877 [00:00<?, ?it/s]"
            ]
          },
          "metadata": {}
        },
        {
          "output_type": "stream",
          "name": "stdout",
          "text": [
            "Extracting ./data/MNIST/raw/t10k-images-idx3-ubyte.gz to ./data/MNIST/raw\n",
            "\n",
            "Downloading http://yann.lecun.com/exdb/mnist/t10k-labels-idx1-ubyte.gz\n",
            "Downloading http://yann.lecun.com/exdb/mnist/t10k-labels-idx1-ubyte.gz to ./data/MNIST/raw/t10k-labels-idx1-ubyte.gz\n"
          ]
        },
        {
          "output_type": "display_data",
          "data": {
            "application/vnd.jupyter.widget-view+json": {
              "model_id": "b3ae498c8044496e9b343dee6361493f",
              "version_minor": 0,
              "version_major": 2
            },
            "text/plain": [
              "  0%|          | 0/4542 [00:00<?, ?it/s]"
            ]
          },
          "metadata": {}
        },
        {
          "output_type": "stream",
          "name": "stdout",
          "text": [
            "Extracting ./data/MNIST/raw/t10k-labels-idx1-ubyte.gz to ./data/MNIST/raw\n",
            "\n",
            "Size of Train Dataset: 60000\n",
            "Size of Test Dataset: 10000\n"
          ]
        }
      ]
    },
    {
      "cell_type": "code",
      "metadata": {
        "colab": {
          "base_uri": "https://localhost:8080/",
          "height": 333
        },
        "id": "9jn1O6qTU7T-",
        "outputId": "3b2598e4-6f75-4845-96e3-12d9360418fa"
      },
      "source": [
        "image,label = train_dataset[0]\n",
        "print('shape:',image.shape, '\\nLabel:',label)\n",
        "plt.imshow(image.reshape((28,28)),cmap=\"gray\")\n",
        "plt.title(\"image\")\n",
        "plt.show"
      ],
      "execution_count": 3,
      "outputs": [
        {
          "output_type": "stream",
          "name": "stdout",
          "text": [
            "shape: torch.Size([1, 28, 28]) \n",
            "Label: 5\n"
          ]
        },
        {
          "output_type": "execute_result",
          "data": {
            "text/plain": [
              "<function matplotlib.pyplot.show>"
            ]
          },
          "metadata": {},
          "execution_count": 3
        },
        {
          "output_type": "display_data",
          "data": {
            "image/png": "[encoded data removed]",
            "text/plain": [
              "<Figure size 432x288 with 1 Axes>"
            ]
          },
          "metadata": {
            "needs_background": "light"
          }
        }
      ]
    },
    {
      "cell_type": "markdown",
      "metadata": {
        "id": "r5gKD4_mX-qh"
      },
      "source": [
        "**MLP:** A multilayer perceptron has Dense layers of neurons in it, hence the name multi-layer.\n"
      ]
    },
    {
      "cell_type": "markdown",
      "metadata": {
        "id": "SFb_zChQYgG3"
      },
      "source": [
        "**y = wx + b**\n",
        "where x denotes the input neuron\n",
        "w : weights\n",
        "b : bias."
      ]
    },
    {
      "cell_type": "markdown",
      "metadata": {
        "id": "IuiSD3w_Y5t2"
      },
      "source": [
        "There 3 basic components:\n",
        "1. Input Layer\n",
        "2.Output Layer\n",
        "3. Hidden Layers"
      ]
    },
    {
      "cell_type": "markdown",
      "metadata": {
        "id": "4C93GrDBZqCn"
      },
      "source": [
        "Define **MLP**"
      ]
    },
    {
      "cell_type": "code",
      "metadata": {
        "id": "IEMrRdc6ZFqI"
      },
      "source": [
        "train_loader = DataLoader(train_dataset, batch_size=100, shuffle=True)\n",
        "test_loader = DataLoader(test_dataset,batch_size=500, shuffle=False)\n",
        "\n",
        "#define our model network model\n",
        "# our neural network model : Multilayer Perceptron\n",
        "\n",
        "class MultilayerPerceptron(nn.Module):\n",
        "  def __init__(self, input_size=784, output_size=10, layers=[120,84]):\n",
        "    super().__init__()\n",
        "    self.d1 = nn.Linear(input_size,layers[0]) #hidden layer 1\n",
        "    self.d2 = nn.Linear(layers[0],layers[1])  #hidden layer 2\n",
        "    self.d3 = nn.Linear(layers[1],output_size)\n",
        "\n",
        "  def forward(self,X):\n",
        "    X = F.relu(self.d1(X))\n",
        "    X = F.relu(self.d2(X))\n",
        "    X = self.d3(X)\n",
        "\n",
        "    return F.log_softmax(X,dim=1)\n",
        "    \n"
      ],
      "execution_count": 4,
      "outputs": []
    },
    {
      "cell_type": "code",
      "metadata": {
        "colab": {
          "base_uri": "https://localhost:8080/"
        },
        "id": "Nhe1ZxzMaxay",
        "outputId": "8650ce4d-4b80-4a7e-b6d7-61b2bb83b8a3"
      },
      "source": [
        "model = MultilayerPerceptron()\n",
        "print(model)"
      ],
      "execution_count": 5,
      "outputs": [
        {
          "output_type": "stream",
          "name": "stdout",
          "text": [
            "MultilayerPerceptron(\n",
            "  (d1): Linear(in_features=784, out_features=120, bias=True)\n",
            "  (d2): Linear(in_features=120, out_features=84, bias=True)\n",
            "  (d3): Linear(in_features=84, out_features=10, bias=True)\n",
            ")\n"
          ]
        }
      ]
    },
    {
      "cell_type": "code",
      "metadata": {
        "id": "pyVswW9pa4c-"
      },
      "source": [
        "#define cross entropy loss and optimizer\n",
        "learning_rate = 0.001\n",
        "loss = nn.CrossEntropyLoss()\n",
        "optimizer = torch.optim.Adam(model.parameters(), lr=learning_rate)"
      ],
      "execution_count": 6,
      "outputs": []
    },
    {
      "cell_type": "markdown",
      "metadata": {
        "id": "RdTusViPbN-d"
      },
      "source": [
        "**Training the Neural Network**"
      ]
    },
    {
      "cell_type": "code",
      "metadata": {
        "colab": {
          "base_uri": "https://localhost:8080/"
        },
        "id": "PTMjkZczbUIN",
        "outputId": "2e2ad29f-a5cd-4986-ba3b-44028805168c"
      },
      "source": [
        "epochs = 50\n",
        "train_losses = []\n",
        "test_losses = []\n",
        "train_correct = []\n",
        "test_correct = []\n",
        "\n",
        "iteration = 0\n",
        "for i in range(epochs):\n",
        "  train_crr = 0\n",
        "  test_crr = 0\n",
        "\n",
        "  for iteration,(x_train, y_train) in enumerate(train_loader):\n",
        "    iteration += 1\n",
        "\n",
        "    # Apply the Model\n",
        "    y_pred = model(x_train.view(100,-1))\n",
        "    new_loss = loss(y_pred,y_train)\n",
        "\n",
        "    predicted = torch.max(y_pred.data,1)[1]\n",
        "    batch_correct = (predicted == y_train).sum()\n",
        "    train_crr += batch_correct\n",
        "\n",
        "    # update parameters\n",
        "    optimizer.zero_grad()\n",
        "    new_loss.backward()\n",
        "    optimizer.step()\n",
        "\n",
        "  train_losses.append(new_loss)\n",
        "  train_correct.append(train_crr)\n",
        "\n",
        "# run the test dataset\n",
        "  with torch.no_grad():\n",
        "    for iteration,(x_test,y_test) in enumerate(test_loader):\n",
        "\n",
        "      #apply the model \n",
        "      y_validation = model(x_test.view(500,-1))\n",
        "      new2_loss = loss(y_validation,y_test)\n",
        "\n",
        "      predicted = torch.max(y_validation,1)[1]\n",
        "      test_crr += (predicted == y_test).sum()\n",
        "      #accuracy = 100*test_crr/len(test_loader)\n",
        "\n",
        "\n",
        "      if iteration % 600 == 0:\n",
        "        print(f'epoch: {i:2} Validation Loss: {new2_loss.item():10.8f} Test Accuracy: {(test_crr.item()*200/1000)}%')\n",
        "\n",
        "  test_losses.append(new2_loss)\n",
        "  test_correct.append(test_crr)\n",
        "\n"
      ],
      "execution_count": 7,
      "outputs": [
        {
          "output_type": "stream",
          "name": "stdout",
          "text": [
            "epoch:  0 Validation Loss: 0.18393727 Test Accuracy: 95.0%\n",
            "epoch:  1 Validation Loss: 0.13234773 Test Accuracy: 96.4%\n",
            "epoch:  2 Validation Loss: 0.08626740 Test Accuracy: 97.6%\n",
            "epoch:  3 Validation Loss: 0.07430840 Test Accuracy: 98.2%\n",
            "epoch:  4 Validation Loss: 0.06539968 Test Accuracy: 97.8%\n",
            "epoch:  5 Validation Loss: 0.06738395 Test Accuracy: 97.4%\n",
            "epoch:  6 Validation Loss: 0.06124463 Test Accuracy: 98.0%\n",
            "epoch:  7 Validation Loss: 0.07145464 Test Accuracy: 97.0%\n",
            "epoch:  8 Validation Loss: 0.07155152 Test Accuracy: 98.0%\n",
            "epoch:  9 Validation Loss: 0.05816584 Test Accuracy: 98.4%\n",
            "epoch: 10 Validation Loss: 0.08477077 Test Accuracy: 97.6%\n",
            "epoch: 11 Validation Loss: 0.06753465 Test Accuracy: 97.4%\n",
            "epoch: 12 Validation Loss: 0.05591881 Test Accuracy: 97.4%\n",
            "epoch: 13 Validation Loss: 0.04974759 Test Accuracy: 97.6%\n",
            "epoch: 14 Validation Loss: 0.06292370 Test Accuracy: 98.0%\n",
            "epoch: 15 Validation Loss: 0.05825396 Test Accuracy: 98.6%\n",
            "epoch: 16 Validation Loss: 0.04394022 Test Accuracy: 98.4%\n",
            "epoch: 17 Validation Loss: 0.09829512 Test Accuracy: 98.0%\n",
            "epoch: 18 Validation Loss: 0.06708869 Test Accuracy: 97.8%\n",
            "epoch: 19 Validation Loss: 0.07159293 Test Accuracy: 97.6%\n",
            "epoch: 20 Validation Loss: 0.06683278 Test Accuracy: 98.2%\n",
            "epoch: 21 Validation Loss: 0.08118277 Test Accuracy: 97.4%\n",
            "epoch: 22 Validation Loss: 0.07513700 Test Accuracy: 98.8%\n",
            "epoch: 23 Validation Loss: 0.04585277 Test Accuracy: 99.0%\n",
            "epoch: 24 Validation Loss: 0.03674128 Test Accuracy: 98.2%\n",
            "epoch: 25 Validation Loss: 0.13449365 Test Accuracy: 97.4%\n",
            "epoch: 26 Validation Loss: 0.05221159 Test Accuracy: 98.4%\n",
            "epoch: 27 Validation Loss: 0.05183644 Test Accuracy: 98.8%\n",
            "epoch: 28 Validation Loss: 0.06296075 Test Accuracy: 98.2%\n",
            "epoch: 29 Validation Loss: 0.06096662 Test Accuracy: 98.0%\n",
            "epoch: 30 Validation Loss: 0.10518572 Test Accuracy: 97.4%\n",
            "epoch: 31 Validation Loss: 0.07716870 Test Accuracy: 98.2%\n",
            "epoch: 32 Validation Loss: 0.11522797 Test Accuracy: 98.2%\n",
            "epoch: 33 Validation Loss: 0.07674868 Test Accuracy: 98.4%\n",
            "epoch: 34 Validation Loss: 0.06827154 Test Accuracy: 98.6%\n",
            "epoch: 35 Validation Loss: 0.07269906 Test Accuracy: 98.4%\n",
            "epoch: 36 Validation Loss: 0.10409743 Test Accuracy: 97.8%\n",
            "epoch: 37 Validation Loss: 0.06990416 Test Accuracy: 98.2%\n",
            "epoch: 38 Validation Loss: 0.11371232 Test Accuracy: 97.8%\n",
            "epoch: 39 Validation Loss: 0.09891306 Test Accuracy: 98.2%\n",
            "epoch: 40 Validation Loss: 0.12664306 Test Accuracy: 97.8%\n",
            "epoch: 41 Validation Loss: 0.09526739 Test Accuracy: 98.0%\n",
            "epoch: 42 Validation Loss: 0.12749724 Test Accuracy: 98.0%\n",
            "epoch: 43 Validation Loss: 0.09689018 Test Accuracy: 98.6%\n",
            "epoch: 44 Validation Loss: 0.09679241 Test Accuracy: 98.6%\n",
            "epoch: 45 Validation Loss: 0.10641178 Test Accuracy: 97.8%\n",
            "epoch: 46 Validation Loss: 0.08327056 Test Accuracy: 98.4%\n",
            "epoch: 47 Validation Loss: 0.09271202 Test Accuracy: 98.0%\n",
            "epoch: 48 Validation Loss: 0.11172058 Test Accuracy: 97.8%\n",
            "epoch: 49 Validation Loss: 0.12493282 Test Accuracy: 98.0%\n"
          ]
        }
      ]
    },
    {
      "cell_type": "code",
      "metadata": {
        "colab": {
          "base_uri": "https://localhost:8080/"
        },
        "id": "WUkxbHiCG9W1",
        "outputId": "b11c2c45-a12f-491a-a56b-39a594d68847"
      },
      "source": [
        "#for Train \n",
        "for i in range(epochs):\n",
        "\n",
        "  for iteration,(x_train, y_train) in enumerate(train_loader):\n",
        "    iteration += 1\n",
        "\n",
        "    # Apply the Model\n",
        "    y_pred = model(x_train.view(100,-1))\n",
        "    new_loss = loss(y_pred,y_train)\n",
        "\n",
        "    predicted = torch.max(y_pred.data,1)[1]\n",
        "    batch_correct = (predicted == y_train).sum()\n",
        "    train_crr += batch_correct\n",
        "\n",
        "    if iteration % 600 == 0:\n",
        "        print(f'epoch: {i:2} Train Loss: {new_loss.item():10.8f}')\n",
        "\n",
        "    # update parameters\n",
        "    optimizer.zero_grad()\n",
        "    new_loss.backward()\n",
        "    optimizer.step()\n",
        "\n",
        "  train_losses.append(new_loss)\n",
        "  train_correct.append(train_crr)"
      ],
      "execution_count": 8,
      "outputs": [
        {
          "output_type": "stream",
          "name": "stdout",
          "text": [
            "epoch:  0 Train Loss: 0.00020897\n",
            "epoch:  1 Train Loss: 0.00986340\n",
            "epoch:  2 Train Loss: 0.00043386\n",
            "epoch:  3 Train Loss: 0.00003197\n",
            "epoch:  4 Train Loss: 0.00687485\n",
            "epoch:  5 Train Loss: 0.00027001\n",
            "epoch:  6 Train Loss: 0.00009105\n",
            "epoch:  7 Train Loss: 0.00161420\n",
            "epoch:  8 Train Loss: 0.00032244\n",
            "epoch:  9 Train Loss: 0.00002267\n",
            "epoch: 10 Train Loss: 0.00002410\n",
            "epoch: 11 Train Loss: 0.01597258\n",
            "epoch: 12 Train Loss: 0.03046049\n",
            "epoch: 13 Train Loss: 0.00375249\n",
            "epoch: 14 Train Loss: 0.00973559\n",
            "epoch: 15 Train Loss: 0.00000160\n",
            "epoch: 16 Train Loss: 0.05863727\n",
            "epoch: 17 Train Loss: 0.00002658\n",
            "epoch: 18 Train Loss: 0.00023829\n",
            "epoch: 19 Train Loss: 0.00021758\n",
            "epoch: 20 Train Loss: 0.00003372\n",
            "epoch: 21 Train Loss: 0.00024106\n",
            "epoch: 22 Train Loss: 0.00558907\n",
            "epoch: 23 Train Loss: 0.00083163\n",
            "epoch: 24 Train Loss: 0.00096209\n",
            "epoch: 25 Train Loss: 0.00000441\n",
            "epoch: 26 Train Loss: 0.00000009\n",
            "epoch: 27 Train Loss: 0.00000581\n",
            "epoch: 28 Train Loss: 0.00000065\n",
            "epoch: 29 Train Loss: 0.00004461\n",
            "epoch: 30 Train Loss: 0.00000223\n",
            "epoch: 31 Train Loss: 0.00000438\n",
            "epoch: 32 Train Loss: 0.00000573\n",
            "epoch: 33 Train Loss: 0.00000137\n",
            "epoch: 34 Train Loss: 0.00000398\n",
            "epoch: 35 Train Loss: 0.00000295\n",
            "epoch: 36 Train Loss: 0.00000122\n",
            "epoch: 37 Train Loss: 0.00000015\n",
            "epoch: 38 Train Loss: 0.00000076\n",
            "epoch: 39 Train Loss: 0.00000102\n",
            "epoch: 40 Train Loss: 0.00000197\n",
            "epoch: 41 Train Loss: 0.00000003\n",
            "epoch: 42 Train Loss: 0.00000045\n",
            "epoch: 43 Train Loss: 0.00000022\n",
            "epoch: 44 Train Loss: 0.00050950\n",
            "epoch: 45 Train Loss: 0.00027408\n",
            "epoch: 46 Train Loss: 0.00010406\n",
            "epoch: 47 Train Loss: 0.00000386\n",
            "epoch: 48 Train Loss: 0.00030091\n",
            "epoch: 49 Train Loss: 0.00002557\n"
          ]
        }
      ]
    },
    {
      "cell_type": "markdown",
      "metadata": {
        "id": "_28OjpZ9n2hH"
      },
      "source": [
        "**Training Curve**"
      ]
    },
    {
      "cell_type": "code",
      "metadata": {
        "colab": {
          "base_uri": "https://localhost:8080/",
          "height": 298
        },
        "id": "O_0AD7sjIe9M",
        "outputId": "0e53aaee-db4f-4f17-dc81-fc0c82ff10aa"
      },
      "source": [
        "plt.plot(train_losses,label='Trainig Loss')\n",
        "plt.plot(test_losses,label='Validation Loss')\n",
        "plt.title('Training Curve')\n",
        "plt.legend(('Trainig Loss', 'Validation Loss'))\n",
        "plt.show\n",
        "\n",
        "\n"
      ],
      "execution_count": 9,
      "outputs": [
        {
          "output_type": "execute_result",
          "data": {
            "text/plain": [
              "<function matplotlib.pyplot.show>"
            ]
          },
          "metadata": {},
          "execution_count": 9
        },
        {
          "output_type": "display_data",
          "data": {
            "image/png": "[encoded data removed]",
            "text/plain": [
              "<Figure size 432x288 with 1 Axes>"
            ]
          },
          "metadata": {
            "needs_background": "light"
          }
        }
      ]
    },
    {
      "cell_type": "markdown",
      "metadata": {
        "id": "l2WoMQ-v8FIA"
      },
      "source": [
        "Karşılaştırma: Accuracy sonucu 0.98 gelmiştir.SVM ile eğitmemiz sonucunda 0.91 gelmişti. Bu demek oluyor ki neural network kullanarak daha sağlıklı sonuçlar elde ediyoruz."
      ]
    },
    {
      "cell_type": "code",
      "metadata": {
        "id": "jMQuakI_8reE"
      },
      "source": [
        ""
      ],
      "execution_count": null,
      "outputs": []
    }
  ]
}